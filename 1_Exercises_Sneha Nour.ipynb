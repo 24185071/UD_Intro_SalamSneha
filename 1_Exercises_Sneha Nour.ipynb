{
 "cells": [
  {
   "cell_type": "markdown",
   "id": "38e188a5",
   "metadata": {},
   "source": [
    "# Exercise 00\n",
    "Write a piece of code that allocates a list of 20 integers and initializes each element by its index multiplied by 5. Print the result."
   ]
  },
  {
   "cell_type": "code",
   "execution_count": 3,
   "id": "01aa4f35",
   "metadata": {},
   "outputs": [
    {
     "data": {
      "text/plain": [
       "[0, 5, 10, 15, 20, 25, 30, 35, 40, 45, 50, 55, 60, 65, 70, 75, 80, 85, 90, 95]"
      ]
     },
     "execution_count": 3,
     "metadata": {},
     "output_type": "execute_result"
    }
   ],
   "source": [
    "myList = []\n",
    "for i in range(20):\n",
    "    myList.append(i*5)\n",
    "myList"
   ]
  },
  {
   "cell_type": "markdown",
   "id": "529d91ae",
   "metadata": {},
   "source": [
    "# Exercise 01\n",
    "Define a function that takes an integer as input, prints  all integers that it is divisable by, and returns the largest one."
   ]
  },
  {
   "cell_type": "code",
   "execution_count": 5,
   "id": "30e79132",
   "metadata": {},
   "outputs": [
    {
     "name": "stdout",
     "output_type": "stream",
     "text": [
      "1\n",
      "2\n",
      "4\n",
      "5\n",
      "10\n"
     ]
    },
    {
     "data": {
      "text/plain": [
       "10"
      ]
     },
     "execution_count": 5,
     "metadata": {},
     "output_type": "execute_result"
    }
   ],
   "source": [
    "def dividers(n):\n",
    "    div = 1\n",
    "    for i in range(1,int(n/2)+1):\n",
    "        if n%i==0:\n",
    "            div = i\n",
    "            print(i)\n",
    "    return div\n",
    "dividers(20)"
   ]
  },
  {
   "cell_type": "markdown",
   "id": "cfbe30d4",
   "metadata": {},
   "source": [
    "# Exercise 02\n",
    "- create a dictionary with 6 keys and values of your choice\n",
    "- write a function that takes a dictionary and a value as input and returns whether the value occurs as a key in the dictionary\n",
    "- write a function that takes a dictionary as input, and returns the dictionary but the keys are swapped with their values (resolve the issue if a value occurs twice!)"
   ]
  },
  {
   "cell_type": "code",
   "execution_count": 11,
   "id": "2123f1c6",
   "metadata": {},
   "outputs": [
    {
     "name": "stdout",
     "output_type": "stream",
     "text": [
      "{'name': 'Louis Vuitton', 'industry': 'fashion', 'origin': 'France', 'year': '1854', 'products': 'Handbags, accessories, shoes, jewelry', 'networth': '€14 billion'}\n"
     ]
    }
   ],
   "source": [
    "brand = {'name':'Louis Vuitton', 'industry':'fashion' , 'origin':'France' , 'year':'1854' , 'products':'Handbags, accessories, shoes, jewelry' , 'networth' : '€14 billion'}\n",
    "print(brand)     "
   ]
  },
  {
   "cell_type": "code",
   "execution_count": 28,
   "id": "5f1511b5-c6ec-4698-aac7-327c151b91fe",
   "metadata": {},
   "outputs": [
    {
     "data": {
      "text/plain": [
       "True"
      ]
     },
     "execution_count": 28,
     "metadata": {},
     "output_type": "execute_result"
    }
   ],
   "source": [
    "def inDictionary(d,k):\n",
    "    for t in d.keys():\n",
    "        if k == t:\n",
    "            return True\n",
    "    return False\n",
    "inDictionary(brand, 'name')"
   ]
  },
  {
   "cell_type": "code",
   "execution_count": 36,
   "id": "87693f59-057e-406f-9a85-1dbecc7898cb",
   "metadata": {},
   "outputs": [
    {
     "data": {
      "text/plain": [
       "{'Louis Vuitton': 'name',\n",
       " 'fashion': 'industry',\n",
       " 'France': 'origin',\n",
       " '1854': 'year',\n",
       " 'Handbags, accessories, shoes, jewelry': 'products',\n",
       " '€14 billion': 'networth'}"
      ]
     },
     "execution_count": 36,
     "metadata": {},
     "output_type": "execute_result"
    }
   ],
   "source": [
    "def swapDictionary(d):\n",
    "    Dict = {}\n",
    "    for k in d.keys():\n",
    "        Dict[d[k]]=k\n",
    "    return Dict\n",
    "    \n",
    "swapDictionary(brand)"
   ]
  },
  {
   "cell_type": "code",
   "execution_count": 42,
   "id": "534f50d1-c3aa-4b58-8a08-f3e80f33d376",
   "metadata": {},
   "outputs": [
    {
     "ename": "NameError",
     "evalue": "name 'Dict' is not defined",
     "output_type": "error",
     "traceback": [
      "\u001b[1;31m---------------------------------------------------------------------------\u001b[0m",
      "\u001b[1;31mNameError\u001b[0m                                 Traceback (most recent call last)",
      "Cell \u001b[1;32mIn[42], line 12\u001b[0m\n\u001b[0;32m     10\u001b[0m             Dict[d[k]]\u001b[38;5;241m=\u001b[39mk\n\u001b[0;32m     11\u001b[0m     \u001b[38;5;28;01mreturn\u001b[39;00m Dict\n\u001b[1;32m---> 12\u001b[0m swapDictionary(newdict)\n",
      "Cell \u001b[1;32mIn[42], line 5\u001b[0m, in \u001b[0;36mswapDictionary\u001b[1;34m(d)\u001b[0m\n\u001b[0;32m      3\u001b[0m newdict \u001b[38;5;241m=\u001b[39m {}\n\u001b[0;32m      4\u001b[0m \u001b[38;5;28;01mfor\u001b[39;00m k \u001b[38;5;129;01min\u001b[39;00m d\u001b[38;5;241m.\u001b[39mkeys():\n\u001b[1;32m----> 5\u001b[0m     \u001b[38;5;28;01mif\u001b[39;00m inDictionary(Dict,d[k]):\n\u001b[0;32m      6\u001b[0m         cv \u001b[38;5;241m=\u001b[39m Dict[d[k]]\n\u001b[0;32m      7\u001b[0m         nv \u001b[38;5;241m=\u001b[39m [cv, k]\n",
      "\u001b[1;31mNameError\u001b[0m: name 'Dict' is not defined"
     ]
    }
   ],
   "source": [
    "newdict = {'a':1, 'b':2, 'c':3, 'd':2}\n",
    "def swapDictionary(d):\n",
    "    newdict = {}\n",
    "    for k in d.keys():\n",
    "        if inDictionary(Dict,d[k]):\n",
    "            cv = Dict[d[k]]\n",
    "            nv = [cv, k]\n",
    "            Dict[d[k]]=nv\n",
    "        else:\n",
    "            Dict[d[k]]=k\n",
    "    return Dict\n",
    "swapDictionary(newdict)"
   ]
  },
  {
   "cell_type": "markdown",
   "id": "b4b4e426",
   "metadata": {},
   "source": [
    "# Exercise 03\n",
    "Define a function that creates a dictionary of the first n fibonacci numbers as values paired with their indices as keys. "
   ]
  },
  {
   "cell_type": "code",
   "execution_count": 34,
   "id": "7845b5a4",
   "metadata": {},
   "outputs": [
    {
     "data": {
      "text/plain": [
       "{0: 0, 1: 1, 2: 1, 3: 2, 4: 3, 5: 5, 6: 8, 7: 13, 8: 21, 9: 34}"
      ]
     },
     "execution_count": 34,
     "metadata": {},
     "output_type": "execute_result"
    }
   ],
   "source": [
    "def fibonacciDict(n):\n",
    "    fibonacci = {}\n",
    "    v1 = 0\n",
    "    v2 = 1\n",
    "    for i in range(n):\n",
    "        fibonacci[i]=v1\n",
    "        t = v1 + v2\n",
    "        v1 = v2\n",
    "        v2 = t\n",
    "    return fibonacci\n",
    "fibonacciDict(10)"
   ]
  },
  {
   "cell_type": "code",
   "execution_count": null,
   "id": "5aa7ce37-1499-4faf-9bfc-a117032c2417",
   "metadata": {},
   "outputs": [],
   "source": []
  }
 ],
 "metadata": {
  "kernelspec": {
   "display_name": "Python 3 (ipykernel)",
   "language": "python",
   "name": "python3"
  },
  "language_info": {
   "codemirror_mode": {
    "name": "ipython",
    "version": 3
   },
   "file_extension": ".py",
   "mimetype": "text/x-python",
   "name": "python",
   "nbconvert_exporter": "python",
   "pygments_lexer": "ipython3",
   "version": "3.12.4"
  }
 },
 "nbformat": 4,
 "nbformat_minor": 5
}
